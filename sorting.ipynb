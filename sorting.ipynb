{
  "nbformat": 4,
  "nbformat_minor": 0,
  "metadata": {
    "colab": {
      "provenance": [],
      "authorship_tag": "ABX9TyNRxKZtugfmlAp2ulmau1/a",
      "include_colab_link": true
    },
    "kernelspec": {
      "name": "python3",
      "display_name": "Python 3"
    },
    "language_info": {
      "name": "python"
    }
  },
  "cells": [
    {
      "cell_type": "markdown",
      "metadata": {
        "id": "view-in-github",
        "colab_type": "text"
      },
      "source": [
        "<a href=\"https://colab.research.google.com/github/gafurjanoff/Data_Science_/blob/main/sorting.ipynb\" target=\"_parent\"><img src=\"https://colab.research.google.com/assets/colab-badge.svg\" alt=\"Open In Colab\"/></a>"
      ]
    },
    {
      "cell_type": "markdown",
      "source": [
        "# Sorting"
      ],
      "metadata": {
        "id": "nplqGzIzoOUn"
      }
    },
    {
      "cell_type": "code",
      "source": [
        "import numpy as np"
      ],
      "metadata": {
        "id": "_kVss4uZobF_"
      },
      "execution_count": 2,
      "outputs": []
    },
    {
      "cell_type": "code",
      "execution_count": 3,
      "metadata": {
        "id": "SHh27BMnjp_k"
      },
      "outputs": [],
      "source": [
        "arr = np.random.randn(10)"
      ]
    },
    {
      "cell_type": "code",
      "source": [
        "arr"
      ],
      "metadata": {
        "colab": {
          "base_uri": "https://localhost:8080/"
        },
        "id": "OH0r_7S_oXQn",
        "outputId": "3f7c1b8e-2b9d-423f-fa7d-495873093a78"
      },
      "execution_count": 4,
      "outputs": [
        {
          "output_type": "execute_result",
          "data": {
            "text/plain": [
              "array([-1.30463895,  2.13037022, -0.55382164,  1.77065824, -0.72436049,\n",
              "        1.90635779,  0.5853978 , -0.05229487, -0.00365267, -0.04166345])"
            ]
          },
          "metadata": {},
          "execution_count": 4
        }
      ]
    },
    {
      "cell_type": "code",
      "source": [
        "sorted_arr = np.sort(arr)"
      ],
      "metadata": {
        "id": "PAQb9JoeoYRp"
      },
      "execution_count": 5,
      "outputs": []
    },
    {
      "cell_type": "code",
      "source": [
        "sorted_arr"
      ],
      "metadata": {
        "colab": {
          "base_uri": "https://localhost:8080/"
        },
        "id": "pw5JgYOuogQ5",
        "outputId": "13c1e247-dd59-469b-9e47-3d7429bd9227"
      },
      "execution_count": 6,
      "outputs": [
        {
          "output_type": "execute_result",
          "data": {
            "text/plain": [
              "array([-1.30463895, -0.72436049, -0.55382164, -0.05229487, -0.04166345,\n",
              "       -0.00365267,  0.5853978 ,  1.77065824,  1.90635779,  2.13037022])"
            ]
          },
          "metadata": {},
          "execution_count": 6
        }
      ]
    },
    {
      "cell_type": "code",
      "source": [
        "arr.sort()\n",
        "arr"
      ],
      "metadata": {
        "colab": {
          "base_uri": "https://localhost:8080/"
        },
        "id": "dBNJlCx-oiMB",
        "outputId": "746a0e6f-6a55-4655-fbf4-2e8526bef885"
      },
      "execution_count": 7,
      "outputs": [
        {
          "output_type": "execute_result",
          "data": {
            "text/plain": [
              "array([-1.30463895, -0.72436049, -0.55382164, -0.05229487, -0.04166345,\n",
              "       -0.00365267,  0.5853978 ,  1.77065824,  1.90635779,  2.13037022])"
            ]
          },
          "metadata": {},
          "execution_count": 7
        }
      ]
    },
    {
      "cell_type": "code",
      "source": [
        "rev_arr = -np.sort(arr)\n",
        "rev_arr"
      ],
      "metadata": {
        "colab": {
          "base_uri": "https://localhost:8080/"
        },
        "id": "x92-hm-to9i6",
        "outputId": "373cb0f8-4698-4282-d632-6e5e9c1e0a66"
      },
      "execution_count": 17,
      "outputs": [
        {
          "output_type": "execute_result",
          "data": {
            "text/plain": [
              "array([ 1.30463895,  0.72436049,  0.55382164,  0.05229487,  0.04166345,\n",
              "        0.00365267, -0.5853978 , -1.77065824, -1.90635779, -2.13037022])"
            ]
          },
          "metadata": {},
          "execution_count": 17
        }
      ]
    },
    {
      "cell_type": "code",
      "source": [
        "rev_arr = -np.sort(-arr)\n",
        "rev_arr"
      ],
      "metadata": {
        "colab": {
          "base_uri": "https://localhost:8080/"
        },
        "id": "94c6mPpvpERK",
        "outputId": "01ca0846-a35c-4d37-ac5e-ae7f56a817f6"
      },
      "execution_count": 18,
      "outputs": [
        {
          "output_type": "execute_result",
          "data": {
            "text/plain": [
              "array([ 2.13037022,  1.90635779,  1.77065824,  0.5853978 , -0.00365267,\n",
              "       -0.04166345, -0.05229487, -0.55382164, -0.72436049, -1.30463895])"
            ]
          },
          "metadata": {},
          "execution_count": 18
        }
      ]
    },
    {
      "cell_type": "markdown",
      "source": [
        "# Sorting in 2 Dimensional Arrays\n"
      ],
      "metadata": {
        "id": "yt_oACn9paS-"
      }
    },
    {
      "cell_type": "code",
      "source": [
        "new_arr = np.random.randn(2,4)"
      ],
      "metadata": {
        "id": "lYP4IbOqpkQd"
      },
      "execution_count": 23,
      "outputs": []
    },
    {
      "cell_type": "code",
      "source": [
        "new_arr"
      ],
      "metadata": {
        "colab": {
          "base_uri": "https://localhost:8080/"
        },
        "id": "bfICWNKcptvr",
        "outputId": "87740211-84e2-497f-e02b-aa342580a029"
      },
      "execution_count": 25,
      "outputs": [
        {
          "output_type": "execute_result",
          "data": {
            "text/plain": [
              "array([[-0.14811154,  0.17021884, -1.13306813,  1.42604848],\n",
              "       [-1.0483174 ,  0.54334381,  1.10418693,  0.4175413 ]])"
            ]
          },
          "metadata": {},
          "execution_count": 25
        }
      ]
    },
    {
      "cell_type": "code",
      "source": [
        "row_sort = np.sort(new_arr, axis=0)\n",
        "row_sort"
      ],
      "metadata": {
        "colab": {
          "base_uri": "https://localhost:8080/"
        },
        "id": "sJ90_k2YpvBB",
        "outputId": "d5017a10-c536-43ee-c6ef-10c40e02b245"
      },
      "execution_count": 28,
      "outputs": [
        {
          "output_type": "execute_result",
          "data": {
            "text/plain": [
              "array([[-1.0483174 ,  0.17021884, -1.13306813,  0.4175413 ],\n",
              "       [-0.14811154,  0.54334381,  1.10418693,  1.42604848]])"
            ]
          },
          "metadata": {},
          "execution_count": 28
        }
      ]
    },
    {
      "cell_type": "code",
      "source": [
        "clmn_sort = np.sort(new_arr, axis=1)\n",
        "clmn_sort"
      ],
      "metadata": {
        "colab": {
          "base_uri": "https://localhost:8080/"
        },
        "id": "RFurqyqfqjZh",
        "outputId": "55791242-e7da-4312-e34a-376558f5445d"
      },
      "execution_count": 29,
      "outputs": [
        {
          "output_type": "execute_result",
          "data": {
            "text/plain": [
              "array([[-1.13306813, -0.14811154,  0.17021884,  1.42604848],\n",
              "       [-1.0483174 ,  0.4175413 ,  0.54334381,  1.10418693]])"
            ]
          },
          "metadata": {},
          "execution_count": 29
        }
      ]
    },
    {
      "cell_type": "code",
      "source": [],
      "metadata": {
        "id": "EIVPJhSkq3UC"
      },
      "execution_count": null,
      "outputs": []
    }
  ]
}