{
  "nbformat": 4,
  "nbformat_minor": 0,
  "metadata": {
    "colab": {
      "provenance": [],
      "authorship_tag": "ABX9TyOx9DrYdKhqvmpMLiR2DhA2",
      "include_colab_link": true
    },
    "kernelspec": {
      "name": "python3",
      "display_name": "Python 3"
    },
    "language_info": {
      "name": "python"
    }
  },
  "cells": [
    {
      "cell_type": "markdown",
      "metadata": {
        "id": "view-in-github",
        "colab_type": "text"
      },
      "source": [
        "<a href=\"https://colab.research.google.com/github/gafurjanoff/Data_Science_/blob/main/conditional_operators.ipynb\" target=\"_parent\"><img src=\"https://colab.research.google.com/assets/colab-badge.svg\" alt=\"Open In Colab\"/></a>"
      ]
    },
    {
      "cell_type": "code",
      "execution_count": null,
      "metadata": {
        "id": "CkrW4teYTjB2"
      },
      "outputs": [],
      "source": [
        "import numpy as np"
      ]
    },
    {
      "cell_type": "code",
      "source": [
        "xarr = np.array([1.1, 1.2, 1.3, 1.4, 1.5]) # xarr\n",
        "yarr = np.array([2.1, 2.2, 2.3, 2.4, 2.5]) # yarr\n"
      ],
      "metadata": {
        "id": "cjRUWd4QTwV6"
      },
      "execution_count": null,
      "outputs": []
    },
    {
      "cell_type": "code",
      "source": [
        "cond = np.array([True, False, True, True, False])\n"
      ],
      "metadata": {
        "id": "fj92_VHlT6yW"
      },
      "execution_count": null,
      "outputs": []
    },
    {
      "cell_type": "code",
      "source": [
        "result = np.where(cond , xarr , yarr)"
      ],
      "metadata": {
        "id": "A1DvQ6QeUg-w"
      },
      "execution_count": null,
      "outputs": []
    },
    {
      "cell_type": "code",
      "source": [
        "result"
      ],
      "metadata": {
        "colab": {
          "base_uri": "https://localhost:8080/"
        },
        "id": "4AT_eddDUvJp",
        "outputId": "a9470700-5490-41af-d776-b41f36d68962"
      },
      "execution_count": null,
      "outputs": [
        {
          "output_type": "execute_result",
          "data": {
            "text/plain": [
              "array([1.1, 2.2, 1.3, 1.4, 2.5])"
            ]
          },
          "metadata": {},
          "execution_count": 6
        }
      ]
    },
    {
      "cell_type": "code",
      "source": [
        "arr = np.random.randn(4,4)\n",
        "arr"
      ],
      "metadata": {
        "colab": {
          "base_uri": "https://localhost:8080/"
        },
        "id": "77GuvdiDU3wv",
        "outputId": "71c5c0ea-26c7-407e-8bee-52433b2c99ff"
      },
      "execution_count": null,
      "outputs": [
        {
          "output_type": "execute_result",
          "data": {
            "text/plain": [
              "array([[ 0.30301787,  0.12444017,  0.52516392,  0.73620376],\n",
              "       [-0.35521256, -0.39553969, -0.45756556,  0.23409624],\n",
              "       [ 0.47593794, -0.68648995, -0.85098652,  0.02956985],\n",
              "       [-1.0685194 ,  2.05538417,  0.30417932, -0.37008438]])"
            ]
          },
          "metadata": {},
          "execution_count": 8
        }
      ]
    },
    {
      "cell_type": "code",
      "source": [
        "results = np.where(arr<0 , -2 , 2)"
      ],
      "metadata": {
        "id": "jmhQooyYVnEx"
      },
      "execution_count": null,
      "outputs": []
    },
    {
      "cell_type": "code",
      "source": [
        "results"
      ],
      "metadata": {
        "colab": {
          "base_uri": "https://localhost:8080/"
        },
        "id": "xk_N7avCVxNX",
        "outputId": "78044496-5d88-4e02-b625-ecf9c7ee849a"
      },
      "execution_count": null,
      "outputs": [
        {
          "output_type": "execute_result",
          "data": {
            "text/plain": [
              "array([[ 2,  2,  2,  2],\n",
              "       [-2, -2, -2,  2],\n",
              "       [ 2, -2, -2,  2],\n",
              "       [-2,  2,  2, -2]])"
            ]
          },
          "metadata": {},
          "execution_count": 10
        }
      ]
    },
    {
      "cell_type": "code",
      "source": [
        "remainder,  integer = np.modf(arr)"
      ],
      "metadata": {
        "id": "yP2idRisVzAP"
      },
      "execution_count": null,
      "outputs": []
    },
    {
      "cell_type": "code",
      "source": [
        "remainder\n"
      ],
      "metadata": {
        "colab": {
          "base_uri": "https://localhost:8080/"
        },
        "id": "xaIrafHCWhWq",
        "outputId": "e34a3761-5fd5-4cb5-9f5a-57a0fdd2de09"
      },
      "execution_count": null,
      "outputs": [
        {
          "output_type": "execute_result",
          "data": {
            "text/plain": [
              "array([[ 0.30301787,  0.12444017,  0.52516392,  0.73620376],\n",
              "       [-0.35521256, -0.39553969, -0.45756556,  0.23409624],\n",
              "       [ 0.47593794, -0.68648995, -0.85098652,  0.02956985],\n",
              "       [-0.0685194 ,  0.05538417,  0.30417932, -0.37008438]])"
            ]
          },
          "metadata": {},
          "execution_count": 14
        }
      ]
    },
    {
      "cell_type": "markdown",
      "source": [
        "# where Function\n",
        "\n",
        "- np.where(condition, X-axis , Y-axis)\n",
        "\n",
        "\n"
      ],
      "metadata": {
        "id": "zZac6FQvV-SQ"
      }
    },
    {
      "cell_type": "code",
      "source": [
        "integer"
      ],
      "metadata": {
        "colab": {
          "base_uri": "https://localhost:8080/"
        },
        "id": "d9yYis9ZWngf",
        "outputId": "8860b1bc-f330-4c80-897b-edb183a68c33"
      },
      "execution_count": null,
      "outputs": [
        {
          "output_type": "execute_result",
          "data": {
            "text/plain": [
              "array([[ 0.,  0.,  0.,  0.],\n",
              "       [-0., -0., -0.,  0.],\n",
              "       [ 0., -0., -0.,  0.],\n",
              "       [-1.,  2.,  0., -0.]])"
            ]
          },
          "metadata": {},
          "execution_count": 15
        }
      ]
    },
    {
      "cell_type": "markdown",
      "source": [
        "# Arithmatic operations\n",
        "\n",
        "- add\n",
        "- subtract\n",
        "- sqrt\n",
        "- divide\n",
        "- mulptiply\n",
        "\n"
      ],
      "metadata": {
        "id": "6DgJmL4-aPFF"
      }
    },
    {
      "cell_type": "code",
      "source": [
        "arr1 = np.arange(10).reshape(5,2)"
      ],
      "metadata": {
        "id": "k7hBJaY0WtwP"
      },
      "execution_count": null,
      "outputs": []
    },
    {
      "cell_type": "code",
      "source": [
        "arr1"
      ],
      "metadata": {
        "colab": {
          "base_uri": "https://localhost:8080/"
        },
        "id": "F5jZ3WJ_Xcag",
        "outputId": "4f0946fa-d77a-46b2-c3ad-e3e8580050c7"
      },
      "execution_count": null,
      "outputs": [
        {
          "output_type": "execute_result",
          "data": {
            "text/plain": [
              "array([[0, 1, 2, 3, 4],\n",
              "       [5, 6, 7, 8, 9]])"
            ]
          },
          "metadata": {},
          "execution_count": 19
        }
      ]
    },
    {
      "cell_type": "code",
      "source": [
        "arr2 = np.arange(5,15).reshape(5,2)"
      ],
      "metadata": {
        "id": "jj_VZYrbXkQJ"
      },
      "execution_count": null,
      "outputs": []
    },
    {
      "cell_type": "code",
      "source": [
        "arr2"
      ],
      "metadata": {
        "colab": {
          "base_uri": "https://localhost:8080/"
        },
        "id": "_oYhzJICXpWQ",
        "outputId": "af4f9305-2fa9-4c35-c045-b5c0b3bea9c0"
      },
      "execution_count": null,
      "outputs": [
        {
          "output_type": "execute_result",
          "data": {
            "text/plain": [
              "array([[ 5,  6],\n",
              "       [ 7,  8],\n",
              "       [ 9, 10],\n",
              "       [11, 12],\n",
              "       [13, 14]])"
            ]
          },
          "metadata": {},
          "execution_count": 23
        }
      ]
    },
    {
      "cell_type": "code",
      "source": [
        "arr1*arr2"
      ],
      "metadata": {
        "colab": {
          "base_uri": "https://localhost:8080/"
        },
        "id": "uneENnPtXqvg",
        "outputId": "88c10f20-0420-454b-ffc3-bc51525a45d6"
      },
      "execution_count": null,
      "outputs": [
        {
          "output_type": "execute_result",
          "data": {
            "text/plain": [
              "array([[  0,   6],\n",
              "       [ 14,  24],\n",
              "       [ 36,  50],\n",
              "       [ 66,  84],\n",
              "       [104, 126]])"
            ]
          },
          "metadata": {},
          "execution_count": 30
        }
      ]
    },
    {
      "cell_type": "code",
      "source": [
        "arr1/arr2"
      ],
      "metadata": {
        "colab": {
          "base_uri": "https://localhost:8080/"
        },
        "id": "WLJwIopLY8xS",
        "outputId": "8f5eaaa4-2ed2-40ca-e832-a07310632a1e"
      },
      "execution_count": null,
      "outputs": [
        {
          "output_type": "execute_result",
          "data": {
            "text/plain": [
              "array([[0.        , 0.16666667],\n",
              "       [0.28571429, 0.375     ],\n",
              "       [0.44444444, 0.5       ],\n",
              "       [0.54545455, 0.58333333],\n",
              "       [0.61538462, 0.64285714]])"
            ]
          },
          "metadata": {},
          "execution_count": 31
        }
      ]
    },
    {
      "cell_type": "code",
      "source": [
        "arr1+arr2"
      ],
      "metadata": {
        "colab": {
          "base_uri": "https://localhost:8080/"
        },
        "id": "RrSS9-hBZJrY",
        "outputId": "207d66a8-0f46-495b-c0ea-ad657b72d88f"
      },
      "execution_count": null,
      "outputs": [
        {
          "output_type": "execute_result",
          "data": {
            "text/plain": [
              "array([[ 5,  7],\n",
              "       [ 9, 11],\n",
              "       [13, 15],\n",
              "       [17, 19],\n",
              "       [21, 23]])"
            ]
          },
          "metadata": {},
          "execution_count": 32
        }
      ]
    },
    {
      "cell_type": "code",
      "source": [
        "arr1-arr2"
      ],
      "metadata": {
        "colab": {
          "base_uri": "https://localhost:8080/"
        },
        "id": "aA363Ma_ZQpr",
        "outputId": "f5260052-1a57-4717-bfb6-d59badff863b"
      },
      "execution_count": null,
      "outputs": [
        {
          "output_type": "execute_result",
          "data": {
            "text/plain": [
              "array([[-5, -5],\n",
              "       [-5, -5],\n",
              "       [-5, -5],\n",
              "       [-5, -5],\n",
              "       [-5, -5]])"
            ]
          },
          "metadata": {},
          "execution_count": 33
        }
      ]
    },
    {
      "cell_type": "code",
      "source": [
        "arr1**2"
      ],
      "metadata": {
        "colab": {
          "base_uri": "https://localhost:8080/"
        },
        "id": "QPIdMD1PZeeR",
        "outputId": "968afb14-85df-4a7f-a827-0bcf3d1a88ff"
      },
      "execution_count": null,
      "outputs": [
        {
          "output_type": "execute_result",
          "data": {
            "text/plain": [
              "array([[ 0,  1],\n",
              "       [ 4,  9],\n",
              "       [16, 25],\n",
              "       [36, 49],\n",
              "       [64, 81]])"
            ]
          },
          "metadata": {},
          "execution_count": 34
        }
      ]
    },
    {
      "cell_type": "code",
      "source": [
        "arr2**2"
      ],
      "metadata": {
        "colab": {
          "base_uri": "https://localhost:8080/"
        },
        "id": "2-AJBPQJZlpx",
        "outputId": "8fd0b942-3dce-426d-bf14-b56f1427412a"
      },
      "execution_count": null,
      "outputs": [
        {
          "output_type": "execute_result",
          "data": {
            "text/plain": [
              "array([[ 25,  36],\n",
              "       [ 49,  64],\n",
              "       [ 81, 100],\n",
              "       [121, 144],\n",
              "       [169, 196]])"
            ]
          },
          "metadata": {},
          "execution_count": 35
        }
      ]
    },
    {
      "cell_type": "code",
      "source": [
        "arr2**0.5"
      ],
      "metadata": {
        "colab": {
          "base_uri": "https://localhost:8080/"
        },
        "id": "ZW-Y8-eFZo6R",
        "outputId": "d58fe29e-1638-41ba-dc2d-9ab78c791b81"
      },
      "execution_count": null,
      "outputs": [
        {
          "output_type": "execute_result",
          "data": {
            "text/plain": [
              "array([[2.23606798, 2.44948974],\n",
              "       [2.64575131, 2.82842712],\n",
              "       [3.        , 3.16227766],\n",
              "       [3.31662479, 3.46410162],\n",
              "       [3.60555128, 3.74165739]])"
            ]
          },
          "metadata": {},
          "execution_count": 36
        }
      ]
    },
    {
      "cell_type": "code",
      "source": [],
      "metadata": {
        "id": "KLy7fQxvZygC"
      },
      "execution_count": null,
      "outputs": []
    }
  ]
}